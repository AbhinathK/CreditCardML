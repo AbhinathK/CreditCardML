{
 "cells": [
  {
   "cell_type": "markdown",
   "metadata": {},
   "source": [
    "Setup"
   ]
  },
  {
   "cell_type": "code",
   "execution_count": null,
   "metadata": {},
   "outputs": [],
   "source": [
    "import numpy as np\n",
    "import matplotlib.pyplot as plt\n",
    "import pandas as pd\n",
    "import seaborn as sns\n",
    "import scipy.stats as stats\n",
    "import os\n",
    "%matplotlib inline \n",
    "\n",
    "from os import chdir\n",
    "from sklearn.model_selection import train_test_split\n",
    "from sklearn.preprocessing import StandardScaler"
   ]
  },
  {
   "cell_type": "markdown",
   "metadata": {},
   "source": [
    "Introduction"
   ]
  },
  {
   "cell_type": "markdown",
   "metadata": {},
   "source": [
    "Data Import"
   ]
  },
  {
   "cell_type": "code",
   "execution_count": null,
   "metadata": {},
   "outputs": [],
   "source": [
    "# change the path to where you have downloaded the data set\n",
    "\n",
    "#path = r\"C:\\Users\\RAJI_\\Documents\\CS\\Year 3\\Data Mining (Maths)\\Assignment2\"\n",
    "path = os.getcwd()\n",
    "\n",
    "chdir(path)\n",
    "data = pd.read_csv('CreditCard_train.csv', header =1)"
   ]
  },
  {
   "cell_type": "markdown",
   "metadata": {},
   "source": [
    "Data Transformation and Exploration"
   ]
  },
  {
   "cell_type": "code",
   "execution_count": null,
   "metadata": {},
   "outputs": [],
   "source": [
    "# checking we have the correct data columns and glancing over the data\n",
    "data.describe()"
   ]
  },
  {
   "cell_type": "code",
   "execution_count": null,
   "metadata": {},
   "outputs": [],
   "source": [
    "# Let's do a little data visualisation\n",
    "cols = [ f for f in data.columns if data.dtypes[ f ] != \"object\" and f!= 'ID']\n",
    "del cols[-1]\n",
    "print(cols)\n",
    "\n",
    "# We plot some distibution plot\n",
    "f = pd.melt(data, id_vars='default payment next month', value_vars= cols)\n",
    "g = sns.FacetGrid( f, hue='default payment next month', col=\"variable\", col_wrap=5, sharex=False, sharey=False)\n",
    "g = g.map( sns.distplot, \"value\", kde=True).add_legend()"
   ]
  },
  {
   "cell_type": "code",
   "execution_count": null,
   "metadata": {},
   "outputs": [],
   "source": [
    "corr = data.corr()\n",
    "\n",
    "from seaborn import heatmap\n",
    "heatmap(corr)\n",
    "\n",
    "plt.show()"
   ]
  },
  {
   "cell_type": "code",
   "execution_count": null,
   "metadata": {},
   "outputs": [],
   "source": [
    "qual_Enc = cols\n",
    "qual_Enc.remove(\"LIMIT_BAL\")\n",
    "qual_Enc.remove(\"AGE\")\n",
    "\n",
    "logged = []\n",
    "for ii in range(1,7):\n",
    "    qual_Enc.remove(\"PAY_AMT\" + str( ii ))\n",
    "    data[ \"log_PAY_AMT\" + str( ii )]  = data[\"PAY_AMT\"  + str( ii )].apply( lambda x: np.log1p(x) if (x>0) else 0 )\n",
    "    logged.append(\"log_PAY_AMT\" + str( ii ) )\n",
    "\n",
    "for ii in range(1,7):\n",
    "    qual_Enc.remove(\"BILL_AMT\" + str( ii ))\n",
    "    data[ \"log_BILL_AMT\" + str( ii )] = data[\"BILL_AMT\" + str( ii )].apply( lambda x: np.log1p(x) if (x>0) else 0 )\n",
    "    logged.append(\"log_BILL_AMT\" + str( ii ) )\n",
    "\n",
    "f = pd.melt( data, id_vars='default payment next month', value_vars=logged)\n",
    "g = sns.FacetGrid( f, hue='default payment next month', col=\"variable\", col_wrap=3, sharex=False, sharey=False )\n",
    "g = g.map( sns.distplot, \"value\", kde=True).add_legend()"
   ]
  },
  {
   "cell_type": "code",
   "execution_count": null,
   "metadata": {},
   "outputs": [],
   "source": [
    "temp = data[\"default payment next month\"].value_counts()\n",
    "df = pd.DataFrame({'default payment next month': temp.index,'values': temp.values})\n",
    "plt.figure(figsize = (6,6))\n",
    "plt.title('Default Credit Card Clients - target value - data unbalance\\n (Default = 0, Not Default = 1)')\n",
    "sns.set_color_codes(\"pastel\")\n",
    "sns.barplot(x = 'default payment next month', y=\"values\", data=df)\n",
    "locs, labels = plt.xticks()\n",
    "plt.show()"
   ]
  },
  {
   "cell_type": "code",
   "execution_count": null,
   "metadata": {},
   "outputs": [],
   "source": [
    "plt.figure(figsize = (6,6))\n",
    "plt.title('Default Credit Card Clients \\n (Default = 0, Not Default = 1)')\n",
    "ax = sns.countplot(x=\"default payment next month\", data=data)"
   ]
  },
  {
   "cell_type": "code",
   "execution_count": null,
   "metadata": {},
   "outputs": [],
   "source": [
    "plt.figure(figsize = (15,10))\n",
    "i = 0\n",
    "for c in cols[3:]:\n",
    "    i= i+1\n",
    "    plt.subplot(3,3,i)\n",
    "    ax = sns.countplot(x=c, data=data)\n",
    "    plt.tight_layout() "
   ]
  },
  {
   "cell_type": "markdown",
   "metadata": {},
   "source": [
    "From the countplots we can observe that there are two unknown variable for repayment status:-2 and 0. Technically we should consider these variables as \"NA\" (Not Applicable). There are several methods to deal with this situation:\n",
    "\n",
    "1.Remove observations\n",
    "We can delete this data and ignore them but considering the vast amount of these observations, the loss of data would be too great.\n",
    "2.Replace NAs with others\n",
    "\n",
    "For now I think the best idea is to keep those observations as \"NAs\" and see how does it affect the predicted output.\n"
   ]
  },
  {
   "cell_type": "code",
   "execution_count": null,
   "metadata": {},
   "outputs": [],
   "source": [
    "#Social Status(SEX, EDUCATION, MARRIAGE)\n",
    "\n",
    "figs, axs = plt.subplots(1, 3, figsize=(15, 10))\n",
    "axs = axs.ravel()\n",
    "\n",
    "for counter in range(3):\n",
    "    col = data.columns[2+counter]\n",
    "    sns.set(style=\"darkgrid\")\n",
    "    sns.countplot(x=str(col), data=data,ax=axs[counter])\n",
    "plt.show()\n"
   ]
  },
  {
   "cell_type": "markdown",
   "metadata": {},
   "source": [
    "We summerise the sex, marriage and eduation as the social status factor. Again we notice that there are obervations with several undocumented values. For example, 0,5 and 6 for education. As I stated before, we could classify those as NA and  keep them as it is for now."
   ]
  },
  {
   "cell_type": "code",
   "execution_count": null,
   "metadata": {},
   "outputs": [],
   "source": [
    "#Age counte\n",
    "plt.figure(figsize=(12,8))\n",
    "col = data.columns[5]\n",
    "sns.set(style=\"darkgrid\")\n",
    "ax=sns.countplot(x=str(col), data=data)\n",
    "plt.show()"
   ]
  },
  {
   "cell_type": "code",
   "execution_count": null,
   "metadata": {},
   "outputs": [],
   "source": [
    "# #Age Scatter\n",
    "ax2 = data.plot.scatter(x='ID', y='AGE',c='AGE', cmap='viridis')\n",
    "plt.show()"
   ]
  },
  {
   "cell_type": "markdown",
   "metadata": {},
   "source": [
    "Looking at the scatterplot, the strange thing is that with index more than 15000, the structure of the data seems like to have some kind of periodic patterns therefore we have drawed another histograms to analyse the strcture of the data."
   ]
  },
  {
   "cell_type": "code",
   "execution_count": null,
   "metadata": {},
   "outputs": [],
   "source": [
    "#comparing 2 groups\n",
    "figs, axs = plt.subplots(1, 2, figsize=(12, 10))\n",
    "#before 15000\n",
    "col = data.columns[5]\n",
    "distinct=len(data[col].unique())\n",
    "axs[0].hist(data[col][:15000], bins=distinct,alpha=0.7)\n",
    "axs[0].grid(axis='y',alpha=0.75)\n",
    "axs[0].set_title(\"Before 15000 \")\n",
    "\n",
    "#after 15000\n",
    "col = data.columns[5]\n",
    "distinct=len(data[col].unique())\n",
    "axs[1].hist(data[col][15000:], bins=distinct,alpha=0.7)\n",
    "axs[1].grid(axis='y',alpha=0.75)\n",
    "axs[1].set_title(\"After 15000 \")\n",
    "\n",
    "plt.show()"
   ]
  },
  {
   "cell_type": "code",
   "execution_count": null,
   "metadata": {},
   "outputs": [],
   "source": [
    "sns.boxplot(x=data[col][:15000])set_title(\"Before 15000 \")\n"
   ]
  },
  {
   "cell_type": "code",
   "execution_count": null,
   "metadata": {},
   "outputs": [],
   "source": [
    "sns.boxplot(x=data[col][15000:]).set_title(\"After 15000 \")"
   ]
  },
  {
   "cell_type": "markdown",
   "metadata": {},
   "source": [
    " Both parts of the data hava the same structure and density, therefore the second part of the data is valid "
   ]
  },
  {
   "cell_type": "code",
   "execution_count": null,
   "metadata": {},
   "outputs": [],
   "source": [
    "figs, axs = plt.subplots(3, 2, figsize=(12, 10))\n",
    "axs = axs.ravel()\n",
    "\n",
    "for counter in range(6):\n",
    "    col = data.columns[11 + counter]\n",
    "    distinct=len(data[col].unique())\n",
    "    sns.set(style=\"darkgrid\")\n",
    "    sns.countplot(x=str(col), data=data, ax=axs[counter])\n",
    "plt.show()"
   ]
  },
  {
   "cell_type": "code",
   "execution_count": null,
   "metadata": {},
   "outputs": [],
   "source": []
  },
  {
   "cell_type": "markdown",
   "metadata": {},
   "source": []
  },
  {
   "cell_type": "markdown",
   "metadata": {},
   "source": [
    "Methodology Overview"
   ]
  },
  {
   "cell_type": "markdown",
   "metadata": {},
   "source": [
    "Model training/validation"
   ]
  },
  {
   "cell_type": "markdown",
   "metadata": {},
   "source": [
    "Results"
   ]
  },
  {
   "cell_type": "markdown",
   "metadata": {},
   "source": [
    "Final predictions on test set"
   ]
  }
 ],
 "metadata": {
  "kernelspec": {
   "display_name": "Python 3",
   "language": "python",
   "name": "python3"
  },
  "language_info": {
   "codemirror_mode": {
    "name": "ipython",
    "version": 3
   },
   "file_extension": ".py",
   "mimetype": "text/x-python",
   "name": "python",
   "nbconvert_exporter": "python",
   "pygments_lexer": "ipython3",
   "version": "3.7.0"
  }
 },
 "nbformat": 4,
 "nbformat_minor": 2
}
